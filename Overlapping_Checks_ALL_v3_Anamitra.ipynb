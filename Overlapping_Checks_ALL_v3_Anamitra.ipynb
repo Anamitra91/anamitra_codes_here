{
 "cells": [
  {
   "cell_type": "code",
   "execution_count": 1,
   "id": "99ed6cc5",
   "metadata": {},
   "outputs": [],
   "source": [
    "import os\n",
    "import glob\n",
    "import pandas as pd\n",
    "import re\n",
    "\n",
    "import warnings\n",
    "warnings.filterwarnings('ignore')"
   ]
  },
  {
   "cell_type": "code",
   "execution_count": null,
   "id": "f08150df-453c-4b92-b462-27412cb0f4f2",
   "metadata": {},
   "outputs": [],
   "source": [
    "#### Notes  \n",
    "- Use the latest not ***overlapping SKUs file***\n",
    "- for ***medtronics*** dont include Medtronic robotic system accessories  \n",
    "- in ***GP*** dont include pta balloons\n",
    "- run together ***SIEMENS & IVD***\n",
    "- Remove specific SKU for ***embolic and THV***? sentinel SKU?"
   ]
  },
  {
   "cell_type": "markdown",
   "id": "22d983b2",
   "metadata": {},
   "source": [
    "### read data"
   ]
  },
  {
   "cell_type": "code",
   "execution_count": 2,
   "id": "bcaafb37",
   "metadata": {},
   "outputs": [
    {
     "name": "stdin",
     "output_type": "stream",
     "text": [
      "Enter Path (The path of the folder which has Raw data files FOLDER):  C:\\Users\\Anamitra.Layek\\OneDrive - GlobalData PLC\\Documents\\2025\\QC Work\\Sample data csv\n"
     ]
    },
    {
     "name": "stdout",
     "output_type": "stream",
     "text": [
      "5 Files Found\n"
     ]
    }
   ],
   "source": [
    "path = input(\"Enter Path (The path of the folder which has Raw data files FOLDER): \")\n",
    "path.replace('\\\\','\\\\\\\\')\n",
    "rawDataPath=path\n",
    "all_files = glob.glob(os.path.join(rawDataPath, \"*.csv\"))\n",
    "if len(all_files)>0:\n",
    "    print(str(len(all_files))+\" Files Found\")\n",
    "else:\n",
    "    print(\"No files found. Please check path\")\n",
    "    \n",
    "#C:\\Users\\Kumar.Anurag\\OneDrive - GlobalData PLC\\Desktop\\Tracker - QC\\GP\\2023\\April\\Final Files\\Extra Files\\Raw Data Files"
   ]
  },
  {
   "cell_type": "markdown",
   "id": "bc759ade",
   "metadata": {},
   "source": [
    "### Read data from additional folder (if needed)"
   ]
  },
  {
   "cell_type": "code",
   "execution_count": 3,
   "id": "6e6fc87b",
   "metadata": {
    "scrolled": true
   },
   "outputs": [
    {
     "name": "stdin",
     "output_type": "stream",
     "text": [
      "Enter Path (The path of the folder which has Raw data files FOLDER):  \n"
     ]
    },
    {
     "name": "stdout",
     "output_type": "stream",
     "text": [
      "49 Files Found\n"
     ]
    }
   ],
   "source": [
    "#Use this when raw data files are present in multiple folders\n",
    "path = input(\"Enter Path (The path of the folder which has Raw data files FOLDER): \")\n",
    "path.replace('\\\\','\\\\\\\\')\n",
    "rawDataPath=path\n",
    "all_files+= glob.glob(os.path.join(rawDataPath, \"*.csv\"))\n",
    "if len(all_files)>0:\n",
    "    print(str(len(all_files))+\" Files Found\")\n",
    "else:\n",
    "    print(\"No files found. Please check path\")"
   ]
  },
  {
   "cell_type": "code",
   "execution_count": 3,
   "id": "4ab89e66",
   "metadata": {
    "scrolled": true
   },
   "outputs": [
    {
     "data": {
      "text/plain": [
       "['C:\\\\Users\\\\Anamitra.Layek\\\\OneDrive - GlobalData PLC\\\\Documents\\\\2025\\\\QC Work\\\\Sample data csv\\\\Aspiration Thrombectomy Catheters - Raw Data - Feb 2025 - Copy.csv',\n",
       " 'C:\\\\Users\\\\Anamitra.Layek\\\\OneDrive - GlobalData PLC\\\\Documents\\\\2025\\\\QC Work\\\\Sample data csv\\\\Benign Prostate Hyperplasia Devices - Raw Data - Feb 2025.csv',\n",
       " 'C:\\\\Users\\\\Anamitra.Layek\\\\OneDrive - GlobalData PLC\\\\Documents\\\\2025\\\\QC Work\\\\Sample data csv\\\\CRAS - Raw Data - Feb 2025.csv',\n",
       " 'C:\\\\Users\\\\Anamitra.Layek\\\\OneDrive - GlobalData PLC\\\\Documents\\\\2025\\\\QC Work\\\\Sample data csv\\\\Flow Diverters - Raw Data - Feb 2025.csv',\n",
       " 'C:\\\\Users\\\\Anamitra.Layek\\\\OneDrive - GlobalData PLC\\\\Documents\\\\2025\\\\QC Work\\\\Sample data csv\\\\Peripheral Nerve Repair - Raw Data - Feb 2025.csv']"
      ]
     },
     "execution_count": 3,
     "metadata": {},
     "output_type": "execute_result"
    }
   ],
   "source": [
    "all_files"
   ]
  },
  {
   "cell_type": "markdown",
   "id": "73411eb1",
   "metadata": {},
   "source": [
    "#### Create overlapping_df which contains rows from every file"
   ]
  },
  {
   "cell_type": "code",
   "execution_count": 4,
   "id": "a6140c49",
   "metadata": {
    "scrolled": true
   },
   "outputs": [
    {
     "name": "stdout",
     "output_type": "stream",
     "text": [
      "Importing  Aspiration Thrombectomy Catheters - Raw Data - Feb 2025 - Copy.csv\n",
      "Importing  Benign Prostate Hyperplasia Devices - Raw Data - Feb 2025.csv\n",
      "Importing  CRAS - Raw Data - Feb 2025.csv\n",
      "Importing  Flow Diverters - Raw Data - Feb 2025.csv\n",
      "Importing  Peripheral Nerve Repair - Raw Data - Feb 2025.csv\n"
     ]
    }
   ],
   "source": [
    "overlapping_df=pd.DataFrame()\n",
    "for filename in all_files:\n",
    "    print('Importing ',filename.split('\\\\')[-1])\n",
    "    try:\n",
    "        data = pd.read_csv(filename,usecols=[\"Transaction.ID\",\"SKU\"], encoding='latin1', dtype=str)\n",
    "    except:\n",
    "        data = pd.read_csv(filename,usecols=[\"Transaction ID\",\"SKU\"], encoding='latin1', dtype=str)\n",
    "        data = data.rename({\"Transaction ID\":\"Transaction.ID\"}, axis=1)\n",
    "    #pd.read_excel(f,usecols = \"A\")\n",
    "    #data[\"Transaction.ID\"].fillna(\"Nullc\", inplace = True)\n",
    "    data['filename']=filename\n",
    "    data['filename'] = data['filename'].map(lambda filename: filename.rsplit('\\\\')[-1])\n",
    "    data=data[['Transaction.ID','SKU','filename']]\n",
    "    overlapping_df = pd.concat([overlapping_df,data])\n",
    "    \n",
    "overlapping_df = overlapping_df[overlapping_df['Transaction.ID'].notnull()]"
   ]
  },
  {
   "cell_type": "code",
   "execution_count": 5,
   "id": "01051d88",
   "metadata": {
    "scrolled": true
   },
   "outputs": [
    {
     "name": "stdout",
     "output_type": "stream",
     "text": [
      "5\n"
     ]
    },
    {
     "data": {
      "text/plain": [
       "array(['Aspiration Thrombectomy Catheters - Raw Data - Feb 2025 - Copy.csv',\n",
       "       'Benign Prostate Hyperplasia Devices - Raw Data - Feb 2025.csv',\n",
       "       'CRAS - Raw Data - Feb 2025.csv',\n",
       "       'Flow Diverters - Raw Data - Feb 2025.csv',\n",
       "       'Peripheral Nerve Repair - Raw Data - Feb 2025.csv'], dtype=object)"
      ]
     },
     "execution_count": 5,
     "metadata": {},
     "output_type": "execute_result"
    }
   ],
   "source": [
    "print(len(overlapping_df['filename'].unique()))\n",
    "overlapping_df['filename'].unique()"
   ]
  },
  {
   "cell_type": "markdown",
   "id": "9c314cc1",
   "metadata": {},
   "source": [
    "# Run this only for Nephron"
   ]
  },
  {
   "cell_type": "code",
   "execution_count": 6,
   "id": "08ece2f7-a75f-4d00-b00b-dbcfeed9203e",
   "metadata": {},
   "outputs": [
    {
     "data": {
      "text/html": [
       "<div>\n",
       "<style scoped>\n",
       "    .dataframe tbody tr th:only-of-type {\n",
       "        vertical-align: middle;\n",
       "    }\n",
       "\n",
       "    .dataframe tbody tr th {\n",
       "        vertical-align: top;\n",
       "    }\n",
       "\n",
       "    .dataframe thead th {\n",
       "        text-align: right;\n",
       "    }\n",
       "</style>\n",
       "<table border=\"1\" class=\"dataframe\">\n",
       "  <thead>\n",
       "    <tr style=\"text-align: right;\">\n",
       "      <th></th>\n",
       "      <th>Transaction.ID</th>\n",
       "      <th>SKU</th>\n",
       "      <th>filename</th>\n",
       "    </tr>\n",
       "  </thead>\n",
       "  <tbody>\n",
       "    <tr>\n",
       "      <th>0</th>\n",
       "      <td>834116421</td>\n",
       "      <td>2MAXCKIT</td>\n",
       "      <td>Aspiration Thrombectomy Catheters - Raw Data -...</td>\n",
       "    </tr>\n",
       "    <tr>\n",
       "      <th>1</th>\n",
       "      <td>1431326633</td>\n",
       "      <td>3MAX</td>\n",
       "      <td>Aspiration Thrombectomy Catheters - Raw Data -...</td>\n",
       "    </tr>\n",
       "    <tr>\n",
       "      <th>2</th>\n",
       "      <td>1557598562</td>\n",
       "      <td>3MAX</td>\n",
       "      <td>Aspiration Thrombectomy Catheters - Raw Data -...</td>\n",
       "    </tr>\n",
       "    <tr>\n",
       "      <th>3</th>\n",
       "      <td>372714582</td>\n",
       "      <td>3MAXC</td>\n",
       "      <td>Aspiration Thrombectomy Catheters - Raw Data -...</td>\n",
       "    </tr>\n",
       "    <tr>\n",
       "      <th>4</th>\n",
       "      <td>373203280</td>\n",
       "      <td>3MAXC</td>\n",
       "      <td>Aspiration Thrombectomy Catheters - Raw Data -...</td>\n",
       "    </tr>\n",
       "    <tr>\n",
       "      <th>...</th>\n",
       "      <td>...</td>\n",
       "      <td>...</td>\n",
       "      <td>...</td>\n",
       "    </tr>\n",
       "    <tr>\n",
       "      <th>103035</th>\n",
       "      <td>2913752254</td>\n",
       "      <td>AG1040</td>\n",
       "      <td>Peripheral Nerve Repair - Raw Data - Feb 2025.csv</td>\n",
       "    </tr>\n",
       "    <tr>\n",
       "      <th>103036</th>\n",
       "      <td>2913757021</td>\n",
       "      <td>111270</td>\n",
       "      <td>Peripheral Nerve Repair - Raw Data - Feb 2025.csv</td>\n",
       "    </tr>\n",
       "    <tr>\n",
       "      <th>103037</th>\n",
       "      <td>2913757022</td>\n",
       "      <td>AGX215</td>\n",
       "      <td>Peripheral Nerve Repair - Raw Data - Feb 2025.csv</td>\n",
       "    </tr>\n",
       "    <tr>\n",
       "      <th>103038</th>\n",
       "      <td>2913758035</td>\n",
       "      <td>CNW4050</td>\n",
       "      <td>Peripheral Nerve Repair - Raw Data - Feb 2025.csv</td>\n",
       "    </tr>\n",
       "    <tr>\n",
       "      <th>103039</th>\n",
       "      <td>2107184895</td>\n",
       "      <td>AG0740</td>\n",
       "      <td>Peripheral Nerve Repair - Raw Data - Feb 2025.csv</td>\n",
       "    </tr>\n",
       "  </tbody>\n",
       "</table>\n",
       "<p>446158 rows × 3 columns</p>\n",
       "</div>"
      ],
      "text/plain": [
       "       Transaction.ID       SKU  \\\n",
       "0           834116421  2MAXCKIT   \n",
       "1          1431326633      3MAX   \n",
       "2          1557598562      3MAX   \n",
       "3           372714582     3MAXC   \n",
       "4           373203280     3MAXC   \n",
       "...               ...       ...   \n",
       "103035     2913752254    AG1040   \n",
       "103036     2913757021    111270   \n",
       "103037     2913757022    AGX215   \n",
       "103038     2913758035   CNW4050   \n",
       "103039     2107184895    AG0740   \n",
       "\n",
       "                                                 filename  \n",
       "0       Aspiration Thrombectomy Catheters - Raw Data -...  \n",
       "1       Aspiration Thrombectomy Catheters - Raw Data -...  \n",
       "2       Aspiration Thrombectomy Catheters - Raw Data -...  \n",
       "3       Aspiration Thrombectomy Catheters - Raw Data -...  \n",
       "4       Aspiration Thrombectomy Catheters - Raw Data -...  \n",
       "...                                                   ...  \n",
       "103035  Peripheral Nerve Repair - Raw Data - Feb 2025.csv  \n",
       "103036  Peripheral Nerve Repair - Raw Data - Feb 2025.csv  \n",
       "103037  Peripheral Nerve Repair - Raw Data - Feb 2025.csv  \n",
       "103038  Peripheral Nerve Repair - Raw Data - Feb 2025.csv  \n",
       "103039  Peripheral Nerve Repair - Raw Data - Feb 2025.csv  \n",
       "\n",
       "[446158 rows x 3 columns]"
      ]
     },
     "execution_count": 6,
     "metadata": {},
     "output_type": "execute_result"
    }
   ],
   "source": [
    "overlapping_df"
   ]
  },
  {
   "cell_type": "code",
   "execution_count": 7,
   "id": "9ccf9b18-150c-413e-bc60-79add1a08d0a",
   "metadata": {},
   "outputs": [],
   "source": [
    "overlapping_df = overlapping_df[~overlapping_df.filename.str.contains(\"Robotic System\")]"
   ]
  },
  {
   "cell_type": "code",
   "execution_count": 8,
   "id": "661c932a-6530-4e9e-b213-2f4a7437d58d",
   "metadata": {
    "scrolled": true
   },
   "outputs": [
    {
     "data": {
      "text/plain": [
       "array(['Aspiration Thrombectomy Catheters - Raw Data - Feb 2025 - Copy.csv',\n",
       "       'Benign Prostate Hyperplasia Devices - Raw Data - Feb 2025.csv',\n",
       "       'CRAS - Raw Data - Feb 2025.csv',\n",
       "       'Flow Diverters - Raw Data - Feb 2025.csv',\n",
       "       'Peripheral Nerve Repair - Raw Data - Feb 2025.csv'], dtype=object)"
      ]
     },
     "execution_count": 8,
     "metadata": {},
     "output_type": "execute_result"
    }
   ],
   "source": [
    "overlapping_df.filename.unique()"
   ]
  },
  {
   "cell_type": "markdown",
   "id": "34f0edaf",
   "metadata": {},
   "source": [
    "### Total rows"
   ]
  },
  {
   "cell_type": "code",
   "execution_count": 9,
   "id": "ca9c17f0",
   "metadata": {
    "scrolled": true
   },
   "outputs": [
    {
     "data": {
      "text/plain": [
       "446158"
      ]
     },
     "execution_count": 9,
     "metadata": {},
     "output_type": "execute_result"
    }
   ],
   "source": [
    "len(overlapping_df)"
   ]
  },
  {
   "cell_type": "markdown",
   "id": "c5d2a2f4",
   "metadata": {},
   "source": [
    "### Save duplicate rows in a separate data frame"
   ]
  },
  {
   "cell_type": "code",
   "execution_count": 10,
   "id": "455756ca-1751-4af6-b2d1-aab384bd9515",
   "metadata": {},
   "outputs": [
    {
     "data": {
      "text/html": [
       "<div>\n",
       "<style scoped>\n",
       "    .dataframe tbody tr th:only-of-type {\n",
       "        vertical-align: middle;\n",
       "    }\n",
       "\n",
       "    .dataframe tbody tr th {\n",
       "        vertical-align: top;\n",
       "    }\n",
       "\n",
       "    .dataframe thead th {\n",
       "        text-align: right;\n",
       "    }\n",
       "</style>\n",
       "<table border=\"1\" class=\"dataframe\">\n",
       "  <thead>\n",
       "    <tr style=\"text-align: right;\">\n",
       "      <th></th>\n",
       "      <th>Transaction.ID</th>\n",
       "      <th>SKU</th>\n",
       "      <th>filename</th>\n",
       "    </tr>\n",
       "  </thead>\n",
       "  <tbody>\n",
       "    <tr>\n",
       "      <th>0</th>\n",
       "      <td>834116421</td>\n",
       "      <td>2MAXCKIT</td>\n",
       "      <td>Aspiration Thrombectomy Catheters - Raw Data -...</td>\n",
       "    </tr>\n",
       "    <tr>\n",
       "      <th>1</th>\n",
       "      <td>1431326633</td>\n",
       "      <td>3MAX</td>\n",
       "      <td>Aspiration Thrombectomy Catheters - Raw Data -...</td>\n",
       "    </tr>\n",
       "    <tr>\n",
       "      <th>2</th>\n",
       "      <td>1557598562</td>\n",
       "      <td>3MAX</td>\n",
       "      <td>Aspiration Thrombectomy Catheters - Raw Data -...</td>\n",
       "    </tr>\n",
       "    <tr>\n",
       "      <th>3</th>\n",
       "      <td>372714582</td>\n",
       "      <td>3MAXC</td>\n",
       "      <td>Aspiration Thrombectomy Catheters - Raw Data -...</td>\n",
       "    </tr>\n",
       "    <tr>\n",
       "      <th>4</th>\n",
       "      <td>373203280</td>\n",
       "      <td>3MAXC</td>\n",
       "      <td>Aspiration Thrombectomy Catheters - Raw Data -...</td>\n",
       "    </tr>\n",
       "    <tr>\n",
       "      <th>...</th>\n",
       "      <td>...</td>\n",
       "      <td>...</td>\n",
       "      <td>...</td>\n",
       "    </tr>\n",
       "    <tr>\n",
       "      <th>103035</th>\n",
       "      <td>2913752254</td>\n",
       "      <td>AG1040</td>\n",
       "      <td>Peripheral Nerve Repair - Raw Data - Feb 2025.csv</td>\n",
       "    </tr>\n",
       "    <tr>\n",
       "      <th>103036</th>\n",
       "      <td>2913757021</td>\n",
       "      <td>111270</td>\n",
       "      <td>Peripheral Nerve Repair - Raw Data - Feb 2025.csv</td>\n",
       "    </tr>\n",
       "    <tr>\n",
       "      <th>103037</th>\n",
       "      <td>2913757022</td>\n",
       "      <td>AGX215</td>\n",
       "      <td>Peripheral Nerve Repair - Raw Data - Feb 2025.csv</td>\n",
       "    </tr>\n",
       "    <tr>\n",
       "      <th>103038</th>\n",
       "      <td>2913758035</td>\n",
       "      <td>CNW4050</td>\n",
       "      <td>Peripheral Nerve Repair - Raw Data - Feb 2025.csv</td>\n",
       "    </tr>\n",
       "    <tr>\n",
       "      <th>103039</th>\n",
       "      <td>2107184895</td>\n",
       "      <td>AG0740</td>\n",
       "      <td>Peripheral Nerve Repair - Raw Data - Feb 2025.csv</td>\n",
       "    </tr>\n",
       "  </tbody>\n",
       "</table>\n",
       "<p>446158 rows × 3 columns</p>\n",
       "</div>"
      ],
      "text/plain": [
       "       Transaction.ID       SKU  \\\n",
       "0           834116421  2MAXCKIT   \n",
       "1          1431326633      3MAX   \n",
       "2          1557598562      3MAX   \n",
       "3           372714582     3MAXC   \n",
       "4           373203280     3MAXC   \n",
       "...               ...       ...   \n",
       "103035     2913752254    AG1040   \n",
       "103036     2913757021    111270   \n",
       "103037     2913757022    AGX215   \n",
       "103038     2913758035   CNW4050   \n",
       "103039     2107184895    AG0740   \n",
       "\n",
       "                                                 filename  \n",
       "0       Aspiration Thrombectomy Catheters - Raw Data -...  \n",
       "1       Aspiration Thrombectomy Catheters - Raw Data -...  \n",
       "2       Aspiration Thrombectomy Catheters - Raw Data -...  \n",
       "3       Aspiration Thrombectomy Catheters - Raw Data -...  \n",
       "4       Aspiration Thrombectomy Catheters - Raw Data -...  \n",
       "...                                                   ...  \n",
       "103035  Peripheral Nerve Repair - Raw Data - Feb 2025.csv  \n",
       "103036  Peripheral Nerve Repair - Raw Data - Feb 2025.csv  \n",
       "103037  Peripheral Nerve Repair - Raw Data - Feb 2025.csv  \n",
       "103038  Peripheral Nerve Repair - Raw Data - Feb 2025.csv  \n",
       "103039  Peripheral Nerve Repair - Raw Data - Feb 2025.csv  \n",
       "\n",
       "[446158 rows x 3 columns]"
      ]
     },
     "execution_count": 10,
     "metadata": {},
     "output_type": "execute_result"
    }
   ],
   "source": [
    "overlapping_df"
   ]
  },
  {
   "cell_type": "code",
   "execution_count": 11,
   "id": "37b6a25c",
   "metadata": {},
   "outputs": [
    {
     "name": "stdout",
     "output_type": "stream",
     "text": [
      "Transaction.ID    16\n",
      "SKU               16\n",
      "filename          16\n",
      "dtype: int64\n"
     ]
    }
   ],
   "source": [
    "####RUN THIS\n",
    "duplicate_new = overlapping_df[overlapping_df.duplicated('Transaction.ID',keep=False)]\n",
    "print(duplicate_new.count())"
   ]
  },
  {
   "cell_type": "markdown",
   "id": "84e9e4e8",
   "metadata": {},
   "source": [
    "## Run this for bloomberg (THV & Embolic)"
   ]
  },
  {
   "cell_type": "code",
   "execution_count": 11,
   "id": "21074269",
   "metadata": {},
   "outputs": [],
   "source": [
    "#Read all relevant SKUs from file \n",
    "thv_df = pd.read_excel(r\"C:\\Users\\Kumar.Anurag\\OneDrive - GlobalData PLC\\Desktop\\overlapping\\not overlaping sku list\\Not Overlapping SKUS - bloomberg.xlsx\")\n",
    "relevant_bloomberg_skus = thv_df['SKU'].apply(lambda x: str(x).upper()).tolist()"
   ]
  },
  {
   "cell_type": "markdown",
   "id": "34ab352c",
   "metadata": {},
   "source": [
    "## Run this for medtronic"
   ]
  },
  {
   "cell_type": "code",
   "execution_count": 11,
   "id": "fbcd703b",
   "metadata": {},
   "outputs": [],
   "source": [
    "df_relev_sku = pd.read_excel(r\"C:\\Users\\Kumar.Anurag\\OneDrive - GlobalData PLC\\Desktop\\overlapping\\not overlaping sku list\\Not Overlapping SKUS - medtronic.xlsx\")\n",
    "relevant_medtronic_skus = df_relev_sku['SKU'].apply(lambda x: str(x).upper()).tolist()"
   ]
  },
  {
   "cell_type": "markdown",
   "id": "20d23397",
   "metadata": {},
   "source": [
    "## Run this for GP"
   ]
  },
  {
   "cell_type": "code",
   "execution_count": 13,
   "id": "19b80707",
   "metadata": {},
   "outputs": [],
   "source": [
    "df_relev_sku = pd.read_excel(r\"C:\\Users\\Anamitra.Layek\\OneDrive - GlobalData PLC\\Documents\\2025\\QC Work\\not overlaping sku list\\Not Overlapping SKUS - GP.xlsx\")\n",
    "relevant_gp_skus = df_relev_sku['SKU'].apply(lambda x: str(x).upper()).tolist()"
   ]
  },
  {
   "cell_type": "markdown",
   "id": "cc7612db",
   "metadata": {},
   "source": [
    "## Extra Analysis for Siemens-IVD Overlapping - There are relevant Overlapping SKUs  \n",
    "#### include these for siemens and IVD"
   ]
  },
  {
   "cell_type": "code",
   "execution_count": 8,
   "id": "14283aad",
   "metadata": {},
   "outputs": [],
   "source": [
    "#Read all relevant SKUs from file \n",
    "file = pd.read_excel(r\"C:\\Users\\Kumar.Anurag\\OneDrive - GlobalData PLC\\Desktop\\overlapping\\not overlaping sku list\\Not Overlapping SKUS - Siemens and IVD.xlsx\")\n",
    "relevant_skus = list(file['SKU'].str.upper())  \n",
    "# hemo = ['88753', '88754','88755','BS88753','BS88754','BS88755','515', '0515', '00515']\n",
    "# relevant_skus += hemo\n",
    "more = ['710256910','5189']\n",
    "relevant_skus += more"
   ]
  },
  {
   "cell_type": "markdown",
   "id": "61f1a8da",
   "metadata": {},
   "source": [
    "## prepare remove_relevant_overlaps dataframe"
   ]
  },
  {
   "cell_type": "code",
   "execution_count": 14,
   "id": "0ef39869",
   "metadata": {},
   "outputs": [
    {
     "name": "stdout",
     "output_type": "stream",
     "text": [
      "Total rows in removed_relevant_overlaps : 16\n"
     ]
    }
   ],
   "source": [
    "#Filter overlapping dataframe by removing relevant skus\n",
    "\n",
    "# only for SIEMENS & IVD\n",
    "#removed_relevant_overlaps = duplicate_new[~duplicate_new['SKU'].isin(relevant_skus)]\n",
    "\n",
    "# for THV (BLOOMBERG)\n",
    "#removed_relevant_overlaps = duplicate_new[~duplicate_new['SKU'].isin(relevant_bloomberg_skus)]\n",
    "\n",
    "# only for MEDTRONIC\n",
    "#removed_relevant_overlaps = duplicate_new[~duplicate_new['SKU'].isin(relevant_medtronic_skus)]\n",
    "\n",
    "# only for GP\n",
    "removed_relevant_overlaps = duplicate_new[~duplicate_new['SKU'].isin(relevant_gp_skus)]\n",
    "\n",
    "# for rest\n",
    "#removed_relevant_overlaps = duplicate_new.copy()\n",
    "\n",
    "print('Total rows in removed_relevant_overlaps :', len(removed_relevant_overlaps))"
   ]
  },
  {
   "cell_type": "code",
   "execution_count": 8,
   "id": "536e285f",
   "metadata": {},
   "outputs": [],
   "source": [
    "# run this for spinal fusion trackers (to remove some words from file name)\n",
    "\n",
    "#removed_relevant_overlaps.filename = removed_relevant_overlaps.filename.apply(lambda x: x[7:])\n",
    "removed_relevant_overlaps.filename = removed_relevant_overlaps.filename.apply(lambda x: x[:-5])\n",
    "\n",
    "removed_relevant_overlaps.filename = removed_relevant_overlaps.filename.apply(lambda x: x.replace(\" - Raw Data\", \"\"))\n",
    "removed_relevant_overlaps.filename = removed_relevant_overlaps.filename.apply(lambda x: x.replace(\"Spinal Fusion - \", \"\"))\n"
   ]
  },
  {
   "cell_type": "code",
   "execution_count": 15,
   "id": "d1d4bb27",
   "metadata": {},
   "outputs": [
    {
     "data": {
      "text/plain": [
       "array(['Aspiration Thrombectomy Catheters - Raw Data - Feb 2025 - Copy.csv',\n",
       "       'Benign Prostate Hyperplasia Devices - Raw Data - Feb 2025.csv',\n",
       "       'CRAS - Raw Data - Feb 2025.csv',\n",
       "       'Flow Diverters - Raw Data - Feb 2025.csv',\n",
       "       'Peripheral Nerve Repair - Raw Data - Feb 2025.csv'], dtype=object)"
      ]
     },
     "execution_count": 15,
     "metadata": {},
     "output_type": "execute_result"
    }
   ],
   "source": [
    "removed_relevant_overlaps.filename.unique()"
   ]
  },
  {
   "cell_type": "code",
   "execution_count": 32,
   "id": "e30652c2",
   "metadata": {},
   "outputs": [],
   "source": [
    "#removed_relevant_overlaps.to_excel('test1.xlsx')"
   ]
  },
  {
   "cell_type": "markdown",
   "id": "eb0cdf2a",
   "metadata": {},
   "source": [
    "## Files with overlapping/duplicte records"
   ]
  },
  {
   "cell_type": "code",
   "execution_count": 16,
   "id": "2d378e6a",
   "metadata": {},
   "outputs": [
    {
     "data": {
      "text/plain": [
       "['Aspiration Thrombectomy Catheters - Raw Data - Feb 2025 - Copy.csv',\n",
       " 'Benign Prostate Hyperplasia Devices - Raw Data - Feb 2025.csv',\n",
       " 'CRAS - Raw Data - Feb 2025.csv',\n",
       " 'Flow Diverters - Raw Data - Feb 2025.csv',\n",
       " 'Peripheral Nerve Repair - Raw Data - Feb 2025.csv']"
      ]
     },
     "execution_count": 16,
     "metadata": {},
     "output_type": "execute_result"
    }
   ],
   "source": [
    "titles = list(removed_relevant_overlaps['filename'].unique())\n",
    "titles"
   ]
  },
  {
   "cell_type": "code",
   "execution_count": 17,
   "id": "c30c5f37",
   "metadata": {
    "scrolled": true
   },
   "outputs": [
    {
     "name": "stdout",
     "output_type": "stream",
     "text": [
      "Aspiration Thrombectomy Catheters - Raw Data - Feb 2025 - Copy.csv Benign Prostate Hyperplasia Devices - Raw Data - Feb 2025.csv 2\n",
      "Benign Prostate Hyperplasia Devices - Raw Data - Feb 2025.csv Aspiration Thrombectomy Catheters - Raw Data - Feb 2025 - Copy.csv 2\n",
      "CRAS - Raw Data - Feb 2025.csv Flow Diverters - Raw Data - Feb 2025.csv 2\n",
      "CRAS - Raw Data - Feb 2025.csv Peripheral Nerve Repair - Raw Data - Feb 2025.csv 2\n",
      "Flow Diverters - Raw Data - Feb 2025.csv CRAS - Raw Data - Feb 2025.csv 2\n",
      "Flow Diverters - Raw Data - Feb 2025.csv Peripheral Nerve Repair - Raw Data - Feb 2025.csv 2\n",
      "Peripheral Nerve Repair - Raw Data - Feb 2025.csv CRAS - Raw Data - Feb 2025.csv 2\n",
      "Peripheral Nerve Repair - Raw Data - Feb 2025.csv Flow Diverters - Raw Data - Feb 2025.csv 2\n",
      "16\n"
     ]
    }
   ],
   "source": [
    "total = 0\n",
    "for i in titles:\n",
    "    for j in titles:\n",
    "        if i!=j:\n",
    "            tx = removed_relevant_overlaps[removed_relevant_overlaps.filename==j]['Transaction.ID'].values\n",
    "            dfx = removed_relevant_overlaps[removed_relevant_overlaps.filename==i]\n",
    "            result = dfx[dfx['Transaction.ID'].isin(tx)]\n",
    "            if len(result) != 0:\n",
    "                print(i, j , len(result))\n",
    "                total += len(result)\n",
    "            \n",
    "print(total)"
   ]
  },
  {
   "cell_type": "code",
   "execution_count": 18,
   "id": "ced30bf6",
   "metadata": {
    "scrolled": true
   },
   "outputs": [
    {
     "name": "stdin",
     "output_type": "stream",
     "text": [
      "Enter Output Path:  C:\\Users\\Anamitra.Layek\\OneDrive - GlobalData PLC\\Documents\\2025\\QC Work\\result\\2025\\February\n"
     ]
    },
    {
     "name": "stdout",
     "output_type": "stream",
     "text": [
      "Aspiration Thrombectomy Catheters - Raw Data - Feb 2025 - Copy.csv\t\tTransactions: 2\n",
      "\tWith  Benign Prostate Hyperplasia Devices - Raw Data - Feb 2025.csv 2\n",
      "\n",
      "\n",
      "Benign Prostate Hyperplasia Devices - Raw Data - Feb 2025.csv\t\tTransactions: 2\n",
      "\n",
      "\n",
      "CRAS - Raw Data - Feb 2025.csv\t\tTransactions: 4\n",
      "\tWith  Flow Diverters - Raw Data - Feb 2025.csv 2\n",
      "\tWith  Peripheral Nerve Repair - Raw Data - Feb 2025.csv 2\n",
      "\n",
      "\n",
      "Flow Diverters - Raw Data - Feb 2025.csv\t\tTransactions: 4\n",
      "\tWith  Peripheral Nerve Repair - Raw Data - Feb 2025.csv 2\n",
      "\n",
      "\n",
      "Peripheral Nerve Repair - Raw Data - Feb 2025.csv\t\tTransactions: 4\n",
      "\n",
      "\n"
     ]
    }
   ],
   "source": [
    "#####After Confirmation, RUN THIS\n",
    "\n",
    "path = input(\"Enter Output Path: \")\n",
    "path.replace('\\\\','\\\\\\\\')\n",
    "overlap_dict2 = dict()\n",
    "pair_list  = []\n",
    "for a in titles:\n",
    "    all_a_transaction = removed_relevant_overlaps[removed_relevant_overlaps['filename'] == a]\n",
    "    overlap_dict2[a] = all_a_transaction\n",
    "    print(a, end=\"\\t\")\n",
    "    print(\"\\tTransactions: \"+str(len(all_a_transaction)))\n",
    "    \n",
    "    # check for duplicates in same file\n",
    "    number_duplicates = len(all_a_transaction)-len(all_a_transaction.drop_duplicates())\n",
    "    #print(number_duplicates)\n",
    "    duplicate_present = 'no'\n",
    "    if number_duplicates > 0:\n",
    "        duplicate_present = 'yes'\n",
    "    \n",
    "    # prepare the list of files which has dupliactes of rows from current file\n",
    "    x = removed_relevant_overlaps[\n",
    "        (removed_relevant_overlaps['Transaction.ID'].isin(\n",
    "            all_a_transaction['Transaction.ID']))&(removed_relevant_overlaps['filename'] != a)]\n",
    "    tt = list(x['filename'].unique()) # filenames which have overlapping rows with current file (a).\n",
    "    \n",
    "    # if dupliacte rows present in same file\n",
    "    if (duplicate_present == 'yes'):\n",
    "        print(str(number_duplicates),' duplicate rows.')\n",
    "        #print()\n",
    "        duplicate_df = all_a_transaction[all_a_transaction.duplicated('Transaction.ID',keep=False)]\n",
    "        name = a.split(\".\")[0] +\" duplicate rows\"\n",
    "        duplicate_df.to_excel(path+\"\\\\\"+name+\".xlsx\", index = False, header=True)\n",
    "    \n",
    "    # if rows overlap with other file\n",
    "    if len(tt) != 0:\n",
    "        for t in tt:\n",
    "            # avoid duplicate excel files generation\n",
    "            if ([a,t] in pair_list)|([t,a] in pair_list):\n",
    "                continue\n",
    "            else:\n",
    "                pair_list.append([a,t])\n",
    "            \n",
    "            \n",
    "            print(\"\\tWith \", end=\" \")\n",
    "            print(t, end = \" \")\n",
    "            temp = removed_relevant_overlaps[\n",
    "                (removed_relevant_overlaps['Transaction.ID'].isin(\n",
    "                all_a_transaction['Transaction.ID']))& (removed_relevant_overlaps['filename'] == t)]\n",
    "\n",
    "            print(len(temp))\n",
    "            if a.split(\"-\")[0] != \"COVID\":\n",
    "                name = (''.join(a.split('.')[0])) +\" with \" + (''.join(t.split('.')[0]))  # .split(\"-\")[0]\n",
    "            else:\n",
    "                name = (''.join(a.split('.')[0])) +\" with \" + (''.join(t.split('.')[0]))   # \n",
    "            temp.to_excel(path+\"\\\\\"+name+\".xlsx\", index = False, header=True)\n",
    "            \n",
    "    #print(\"\\t\",*tt, sep=\"\\n\")\n",
    "    print(\"\\n\")"
   ]
  },
  {
   "cell_type": "code",
   "execution_count": null,
   "id": "46bb4007",
   "metadata": {},
   "outputs": [],
   "source": []
  }
 ],
 "metadata": {
  "kernelspec": {
   "display_name": "Python 3 (ipykernel)",
   "language": "python",
   "name": "python3"
  },
  "language_info": {
   "codemirror_mode": {
    "name": "ipython",
    "version": 3
   },
   "file_extension": ".py",
   "mimetype": "text/x-python",
   "name": "python",
   "nbconvert_exporter": "python",
   "pygments_lexer": "ipython3",
   "version": "3.9.0"
  }
 },
 "nbformat": 4,
 "nbformat_minor": 5
}
