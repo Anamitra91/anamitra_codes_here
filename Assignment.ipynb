{
 "cells": [
  {
   "cell_type": "markdown",
   "id": "dc992124-9de4-4893-884a-5f6cdc9d6960",
   "metadata": {},
   "source": [
    "# Tools for Data Science Final Project\n"
   ]
  },
  {
   "cell_type": "markdown",
   "id": "bdf5b32c-d49f-4fec-8bc1-f99a66964cbb",
   "metadata": {},
   "source": [
    "## Introduction\n",
    "This notebook is part of the final project for the Tools for Data Science course. It includes exercises that cover different aspects of Markdown and Python coding for data science.\n"
   ]
  },
  {
   "cell_type": "markdown",
   "id": "c0c8eb04-b598-4c8e-a0b4-49aa5dd577b5",
   "metadata": {},
   "source": [
    "## Data Science Languages\n",
    "Some popular languages used in Data Science are:\n",
    "1. Python\n",
    "2. R\n",
    "3. SQL\n",
    "4. Julia\n",
    "5. Scala\n"
   ]
  },
  {
   "cell_type": "markdown",
   "id": "f3fcc71e-1fdc-4708-9145-020150014f6b",
   "metadata": {},
   "source": [
    "## Data Science Libraries\n",
    "Some commonly used libraries for Data Science include:\n",
    "- NumPy\n",
    "- Pandas\n",
    "- Matplotlib\n",
    "- Scikit-learn\n",
    "- TensorFlow\n",
    "- PyTorch\n"
   ]
  },
  {
   "cell_type": "markdown",
   "id": "b3af5a7b-06f4-4f63-9591-db27173c1882",
   "metadata": {},
   "source": [
    "## Data Science Tools\n",
    "\n",
    "| Tool Name       | Category          | Description                              |\n",
    "|----------------|------------------|------------------------------------------|\n",
    "| Jupyter Notebook | IDE | Interactive environment for coding and visualization |\n",
    "| Apache Spark   | Big Data Processing | Distributed computing system for large-scale data processing |\n",
    "| Tableau        | Data Visualization | Business intelligence tool for dashboards and analytics |\n",
    "| TensorFlow     | Machine Learning | Open-source framework for deep learning |\n",
    "| MySQL          | Database | Relational database management system |\n"
   ]
  },
  {
   "cell_type": "markdown",
   "id": "ac64bdb2-1171-497c-ba06-db76050f7c9f",
   "metadata": {},
   "source": [
    "## Arithmetic Expressions\n",
    "Arithmetic expressions are mathematical operations that involve numbers and operators such as addition (`+`), subtraction (`-`), multiplication (`*`), and division (`/`). \n",
    "\n",
    "### Example:\n",
    "Consider adding two numbers first and then multplying the result with two\n",
    "\n",
    "\n",
    "In Python, this can be written as:\n",
    "\n",
    "```python\n",
    "result = (5 + 3) * 2\n",
    "print(\"The result of (5 + 3) * 2 is:\", result)\n"
   ]
  },
  {
   "cell_type": "markdown",
   "id": "3ab6c466-8b9c-4f94-8e61-93f94b2b8a17",
   "metadata": {},
   "source": [
    "# Multiplication and addition\n",
    "a = 5\n",
    "b = 10\n",
    "multiplication_result = a * b\n",
    "addition_result = a + b\n",
    "\n",
    "print(\"Multiplication Result:\", multiplication_result)\n",
    "print(\"Addition Result:\", addition_result)\n"
   ]
  },
  {
   "cell_type": "markdown",
   "id": "be70a006-257f-41b7-902d-0864d3eab485",
   "metadata": {},
   "source": [
    "# Convert minutes to hours\n",
    "minutes = 150\n",
    "hours = minutes / 60\n",
    "print(f\"{minutes} minutes is equal to {hours:.2f} hours.\")\n"
   ]
  },
  {
   "cell_type": "markdown",
   "id": "27197558-9b14-413f-9915-9086c204e9aa",
   "metadata": {},
   "source": [
    "## Objectives\n",
    "The main objectives of this final project are:\n",
    "- Demonstrate the use of Markdown in Jupyter Notebook.\n",
    "- List common languages and libraries used in Data Science.\n",
    "- Create and format tables in Markdown.\n",
    "- Write and execute Python code for basic mathematical operations.\n",
    "- Share the notebook through GitHub.\n"
   ]
  },
  {
   "cell_type": "markdown",
   "id": "40c9f97e-68f4-4b9b-9cfe-4fbcf6306a97",
   "metadata": {},
   "source": [
    "## Author\n",
    "Anamitra Layek"
   ]
  }
 ],
 "metadata": {
  "kernelspec": {
   "display_name": "Python 3 (ipykernel)",
   "language": "python",
   "name": "python3"
  },
  "language_info": {
   "codemirror_mode": {
    "name": "ipython",
    "version": 3
   },
   "file_extension": ".py",
   "mimetype": "text/x-python",
   "name": "python",
   "nbconvert_exporter": "python",
   "pygments_lexer": "ipython3",
   "version": "3.9.0"
  }
 },
 "nbformat": 4,
 "nbformat_minor": 5
}
